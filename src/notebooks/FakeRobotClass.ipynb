{
 "cells": [
  {
   "cell_type": "code",
   "execution_count": null,
   "metadata": {
    "lines_to_next_cell": 1
   },
   "outputs": [],
   "source": [
    "import traitlets\n",
    "import time\n",
    "from traitlets.config.configurable import SingletonConfigurable"
   ]
  },
  {
   "cell_type": "code",
   "execution_count": null,
   "metadata": {},
   "outputs": [],
   "source": [
    "class Robot(SingletonConfigurable):\n",
    "    \n",
    "    front_left_motor = None\n",
    "    front_right_motor = None\n",
    "    back_left_motor = None\n",
    "    back_right_motor = None\n",
    "\n",
    "    def __init__(self, *args, **kwargs):\n",
    "        super(Robot, self).__init__(*args, **kwargs)\n",
    "        pass\n",
    "    def set_motors(self, front_left_speed, front_right_speed, back_left_speed, back_right_speed):\n",
    "        pass\n",
    "    def forward(self, speed=1.0):\n",
    "        pass\n",
    "\n",
    "    def backward(self, speed=1.0):\n",
    "        pass\n",
    "\n",
    "    def left(self, speed=1.0):\n",
    "        pass\n",
    "\n",
    "    def right(self, speed=1.0):\n",
    "        pass\n",
    "\n",
    "    def stop(self):\n",
    "        pass\n",
    "    \n",
    "    def forward_left(self, speed=1.0):\n",
    "        pass\n",
    "            \n",
    "    def forward_right(self, speed=1.0):\n",
    "        pass\n",
    "\n",
    "    def backward_left(self, speed=1.0):\n",
    "        pass\n",
    "            \n",
    "    def backward_right(self, speed=1.0):\n",
    "        pass"
   ]
  }
 ],
 "metadata": {
  "jupytext": {
   "cell_metadata_filter": "-all",
   "main_language": "python",
   "notebook_metadata_filter": "-all"
  }
 },
 "nbformat": 4,
 "nbformat_minor": 4
}
