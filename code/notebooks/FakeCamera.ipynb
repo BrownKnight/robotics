{
 "cells": [
  {
   "cell_type": "code",
   "execution_count": null,
   "metadata": {},
   "outputs": [],
   "source": [
    "import threading"
   ]
  },
  {
   "cell_type": "code",
   "execution_count": null,
   "metadata": {},
   "outputs": [],
   "source": [
    "import cv2\n",
    "import numpy as np\n",
    "import traitlets\n",
    "from traitlets.config import SingletonConfigurable"
   ]
  },
  {
   "cell_type": "code",
   "execution_count": null,
   "metadata": {},
   "outputs": [],
   "source": [
    "class Camera(SingletonConfigurable):\n",
    "    # this changing of these two values will be captured by traitlets\n",
    "    color_value = traitlets.Any()\n",
    "    depth_value = traitlets.Any()\n",
    "\n",
    "    def __init__(self):\n",
    "        super(Camera, self).__init__()\n",
    "\n",
    "\n",
    "        # set resolution for the color camera\n",
    "        self.color_width = 640\n",
    "        self.color_height = 480\n",
    "        self.color_fps = 30\n",
    "\n",
    "        # set resolution for the depth camera\n",
    "        self.depth_width = 640\n",
    "        self.depth_height = 480\n",
    "        self.depth_fps = 30\n",
    "\n",
    "        self.stop_flag = False\n",
    "\n",
    "        # start capture the first depth and color image\n",
    "\n",
    "        self.fake_image = np.zeros((480,640, 3))\n",
    "        self.fake_image2 = np.zeros((480,640, 3))\n",
    "        self.color_value = self.fake_image\n",
    "\n",
    "        self.depth_value = self.fake_image2\n",
    "\n",
    "    def _capture_frames(self):\n",
    "        while (self.stop_flag == False):\n",
    "            self.color_value = self.fake_image\n",
    "\n",
    "            self.depth_value = self.fake_image2\n",
    "            self.depth_image = self.fake_image2\n",
    "\n",
    "    def start(self):\n",
    "        if not hasattr(self, 'thread') or not self.thread.isAlive():\n",
    "            self.thread = threading.Thread(target=self._capture_frames)\n",
    "            self.thread.start()\n",
    "\n",
    "    def stop(self):\n",
    "        self.stop_flag = True\n",
    "        if hasattr(self, 'thread'):\n",
    "            self.thread.join()"
   ]
  }
 ],
 "metadata": {
  "jupytext": {
   "cell_metadata_filter": "-all",
   "main_language": "python",
   "notebook_metadata_filter": "-all"
  }
 },
 "nbformat": 4,
 "nbformat_minor": 4
}
